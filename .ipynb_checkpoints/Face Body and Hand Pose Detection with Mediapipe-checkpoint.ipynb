{
 "cells": [
  {
   "cell_type": "code",
   "execution_count": 1,
   "id": "9f3eaf9a",
   "metadata": {},
   "outputs": [],
   "source": [
    "# !pip install mediapipe opencv-python"
   ]
  },
  {
   "cell_type": "code",
   "execution_count": 2,
   "id": "51a2fa36",
   "metadata": {},
   "outputs": [],
   "source": [
    "import mediapipe as mp\n",
    "import cv2"
   ]
  },
  {
   "cell_type": "code",
   "execution_count": 8,
   "id": "43ff5ec4",
   "metadata": {},
   "outputs": [],
   "source": [
    "mp_drawing = mp.solutions.drawing_utils\n",
    "mp_holistic = mp.solutions.holistic"
   ]
  },
  {
   "cell_type": "markdown",
   "id": "41d3149d",
   "metadata": {},
   "source": [
    "# 1.Get Realtime Webcam Feed"
   ]
  },
  {
   "cell_type": "code",
   "execution_count": 10,
   "id": "a7c3fb33",
   "metadata": {},
   "outputs": [],
   "source": [
    "cap = cv2.VideoCapture(0)\n",
    "while cap.isOpened():\n",
    "    ret,frame = cap.read()\n",
    "    cv2.imshow('Raw Webcamp Feed',frame)\n",
    "    if cv2.waitKey(10) & 0xFF == ord('q'):\n",
    "        break\n",
    "cap.release()\n",
    "cv2.destroyAllWindows()"
   ]
  },
  {
   "cell_type": "code",
   "execution_count": 15,
   "id": "8563481d",
   "metadata": {},
   "outputs": [],
   "source": [
    "cap.release()\n",
    "cv2.destroyAllWindows()"
   ]
  },
  {
   "cell_type": "markdown",
   "id": "209da85b",
   "metadata": {},
   "source": [
    "# 2. Make Detections from Feed\n",
    "1. Detect Facial Landmarks\n",
    "2. Detect Hand Poses\n",
    "3. Detect Body Poses"
   ]
  },
  {
   "cell_type": "code",
   "execution_count": 21,
   "id": "32ea4c5c",
   "metadata": {},
   "outputs": [],
   "source": [
    "cap = cv2.VideoCapture(0)\n",
    "# Initiate the holistic model\n",
    "with mp_holistic.Holistic(min_detection_confidence=0.5,min_tracking_confidence=0.5) as holistic:  \n",
    "    while cap.isOpened():\n",
    "        ret,frame = cap.read()\n",
    "        # recolor Feed\n",
    "        img = cv2.cvtColor(frame,cv2.COLOR_BGR2RGB)\n",
    "        # make detections\n",
    "        results = holistic.process(img)\n",
    "        # print(results.pose_landmarks)\n",
    "        \n",
    "        # Recolor image back to BGR for rendering\n",
    "        img = cv2.cvtColor(img,cv2.COLOR_RGB2BGR)\n",
    "        \n",
    "        # Draw face landmarks\n",
    "#         mp_drawing.draw_landmarks(img,results.face_landmarks,mp_holistic.FACE_CONNECTIONS)\n",
    "        mp_drawing.draw_landmarks(img, results.face_landmarks, mp_holistic.FACEMESH_TESSELATION)\n",
    "    \n",
    "        # Right hand\n",
    "        mp_drawing.draw_landmarks(img, results.right_hand_landmarks, mp_holistic.HAND_CONNECTIONS)\n",
    "\n",
    "        # Left Hand\n",
    "        mp_drawing.draw_landmarks(img, results.left_hand_landmarks, mp_holistic.HAND_CONNECTIONS)\n",
    "\n",
    "        # Pose Detections\n",
    "        mp_drawing.draw_landmarks(img, results.pose_landmarks, mp_holistic.POSE_CONNECTIONS)\n",
    "        \n",
    "        cv2.imshow('Raw Webcamp Feed',img)\n",
    "\n",
    "        if cv2.waitKey(10) & 0xFF == ord('q'):\n",
    "            break\n",
    "cap.release()\n",
    "cv2.destroyAllWindows()"
   ]
  },
  {
   "cell_type": "code",
   "execution_count": 16,
   "id": "aabbffff",
   "metadata": {},
   "outputs": [
    {
     "data": {
      "text/plain": [
       "frozenset({(0, 1),\n",
       "           (0, 4),\n",
       "           (1, 2),\n",
       "           (2, 3),\n",
       "           (3, 7),\n",
       "           (4, 5),\n",
       "           (5, 6),\n",
       "           (6, 8),\n",
       "           (9, 10),\n",
       "           (11, 12),\n",
       "           (11, 13),\n",
       "           (11, 23),\n",
       "           (12, 14),\n",
       "           (12, 24),\n",
       "           (13, 15),\n",
       "           (14, 16),\n",
       "           (15, 17),\n",
       "           (15, 19),\n",
       "           (15, 21),\n",
       "           (16, 18),\n",
       "           (16, 20),\n",
       "           (16, 22),\n",
       "           (17, 19),\n",
       "           (18, 20),\n",
       "           (23, 24),\n",
       "           (23, 25),\n",
       "           (24, 26),\n",
       "           (25, 27),\n",
       "           (26, 28),\n",
       "           (27, 29),\n",
       "           (27, 31),\n",
       "           (28, 30),\n",
       "           (28, 32),\n",
       "           (29, 31),\n",
       "           (30, 32)})"
      ]
     },
     "execution_count": 16,
     "metadata": {},
     "output_type": "execute_result"
    }
   ],
   "source": [
    "mp_holistic.POSE_CONNECTIONS"
   ]
  },
  {
   "cell_type": "code",
   "execution_count": 26,
   "id": "5a0268c1",
   "metadata": {},
   "outputs": [],
   "source": [
    "#  mp_drawing.DrawingSpec??\n",
    "# mp_drawing.draw_landmarks??"
   ]
  },
  {
   "cell_type": "markdown",
   "id": "4593b55d",
   "metadata": {},
   "source": [
    "# 3 Apply Styling"
   ]
  },
  {
   "cell_type": "code",
   "execution_count": 36,
   "id": "824abd37",
   "metadata": {},
   "outputs": [],
   "source": [
    "cap = cv2.VideoCapture(0)\n",
    "# Initiate the holistic model\n",
    "with mp_holistic.Holistic(min_detection_confidence=0.5,min_tracking_confidence=0.5) as holistic:  \n",
    "    while cap.isOpened():\n",
    "        ret,frame = cap.read()\n",
    "        # recolor Feed\n",
    "        img = cv2.cvtColor(frame,cv2.COLOR_BGR2RGB)\n",
    "        # make detections\n",
    "        results = holistic.process(img)\n",
    "        # print(results.pose_landmarks)\n",
    "        \n",
    "        # Recolor image back to BGR for rendering\n",
    "        img = cv2.cvtColor(img,cv2.COLOR_RGB2BGR)\n",
    "        \n",
    "        # Draw face landmarks\n",
    "#         mp_drawing.draw_landmarks(img,results.face_landmarks,mp_holistic.FACE_CONNECTIONS)\n",
    "        mp_drawing.draw_landmarks(img, results.face_landmarks, mp_holistic.FACEMESH_TESSELATION,\n",
    "                                 mp_drawing.DrawingSpec(color=(255,0,0),thickness=2,circle_radius=4),\n",
    "                                 mp_drawing.DrawingSpec(color=(240,0,0),thickness=2,circle_radius=4))\n",
    "    \n",
    "        # Right hand\n",
    "        mp_drawing.draw_landmarks(img, results.right_hand_landmarks, mp_holistic.HAND_CONNECTIONS,\n",
    "                                 mp_drawing.DrawingSpec(color=(80,110,10),thickness=1,circle_radius=1),\n",
    "                                 mp_drawing.DrawingSpec(color=(80,256,121),thickness=1,circle_radius=1))\n",
    "\n",
    "        # Left Hand\n",
    "        mp_drawing.draw_landmarks(img, results.left_hand_landmarks, mp_holistic.HAND_CONNECTIONS,\n",
    "                                 mp_drawing.DrawingSpec(color=(255,0,0),thickness=2,circle_radius=4),\n",
    "                                 mp_drawing.DrawingSpec(color=(240,0,0),thickness=2,circle_radius=4))\n",
    "\n",
    "        # Pose Detections\n",
    "        mp_drawing.draw_landmarks(img, results.pose_landmarks, mp_holistic.POSE_CONNECTIONS,\n",
    "                                 mp_drawing.DrawingSpec(color=(255,0,0),thickness=2,circle_radius=4),\n",
    "                                 mp_drawing.DrawingSpec(color=(240,0,0),thickness=2,circle_radius=4))\n",
    "        \n",
    "        cv2.imshow('Raw Webcamp Feed',img)\n",
    "\n",
    "        if cv2.waitKey(10) & 0xFF == ord('q'):\n",
    "            break\n",
    "cap.release()\n",
    "cv2.destroyAllWindows()"
   ]
  },
  {
   "cell_type": "code",
   "execution_count": null,
   "id": "19027933",
   "metadata": {},
   "outputs": [],
   "source": []
  }
 ],
 "metadata": {
  "kernelspec": {
   "display_name": "Python 3 (ipykernel)",
   "language": "python",
   "name": "python3"
  },
  "language_info": {
   "codemirror_mode": {
    "name": "ipython",
    "version": 3
   },
   "file_extension": ".py",
   "mimetype": "text/x-python",
   "name": "python",
   "nbconvert_exporter": "python",
   "pygments_lexer": "ipython3",
   "version": "3.9.6"
  }
 },
 "nbformat": 4,
 "nbformat_minor": 5
}
